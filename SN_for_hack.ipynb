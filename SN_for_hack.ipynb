{
 "cells": [
  {
   "cell_type": "code",
   "execution_count": 1,
   "metadata": {
    "collapsed": true
   },
   "outputs": [],
   "source": [
    "import numpy as np\n",
    "%matplotlib inline \n",
    "import matplotlib.pyplot as plt"
   ]
  },
  {
   "cell_type": "code",
   "execution_count": 2,
   "metadata": {
    "collapsed": false
   },
   "outputs": [
    {
     "name": "stderr",
     "output_type": "stream",
     "text": [
      "/usr/local/manual/anaconda/lib/python2.7/site-packages/IPython/kernel/__init__.py:13: ShimWarning: The `IPython.kernel` package has been deprecated. You should import from ipykernel or jupyter_client instead.\n",
      "  \"You should import from ipykernel or jupyter_client instead.\", ShimWarning)\n"
     ]
    }
   ],
   "source": [
    "from astropy.units import Unit\n",
    "import sncosmo"
   ]
  },
  {
   "cell_type": "code",
   "execution_count": 9,
   "metadata": {
    "collapsed": true
   },
   "outputs": [],
   "source": [
    "from OpSimSummary import summarize_opsim as so\n",
    "from sqlalchemy import create_engine\n",
    "import pandas as pd"
   ]
  },
  {
   "cell_type": "code",
   "execution_count": 10,
   "metadata": {
    "collapsed": false
   },
   "outputs": [],
   "source": [
    "dbname = '/Users/rbiswas/data/LSST/OpSimData/enigma_1189_sqlite.db'\n",
    "#opsdb = db.OpsimDatabase(dbname)\n",
    "#propID, propTags = opsdb.fetchPropInfo()\n",
    "#DD = propTags['DD'][0]\n",
    "#WFD = propTags['WFD'][0]\n",
    "# Read in the OpSim DataBas"
   ]
  },
  {
   "cell_type": "code",
   "execution_count": 11,
   "metadata": {
    "collapsed": true
   },
   "outputs": [],
   "source": [
    "from lsst.sims.maf import db\n",
    "from lsst.sims.maf.utils import opsimUtils"
   ]
  },
  {
   "cell_type": "code",
   "execution_count": 12,
   "metadata": {
    "collapsed": false
   },
   "outputs": [],
   "source": [
    "engine = create_engine('sqlite:///' + dbname)"
   ]
  },
  {
   "cell_type": "code",
   "execution_count": 16,
   "metadata": {
    "collapsed": true
   },
   "outputs": [],
   "source": [
    "EnigmaDeep_direct = pd.read_sql_query('SELECT * FROM SUMMARY WHERE PROPID is 366 and fieldId is 290', \n",
    "                                      engine, index_col='obsHistID')"
   ]
  },
  {
   "cell_type": "code",
   "execution_count": 17,
   "metadata": {
    "collapsed": true
   },
   "outputs": [],
   "source": [
    "summary = so.SummaryOpsim(EnigmaDeep_direct)"
   ]
  },
  {
   "cell_type": "code",
   "execution_count": 19,
   "metadata": {
    "collapsed": false
   },
   "outputs": [
    {
     "data": {
      "image/png": "[encoded data removed]",
      "text/plain": [
       "<matplotlib.figure.Figure at 0x10cca3f10>"
      ]
     },
     "metadata": {},
     "output_type": "display_data"
    }
   ],
   "source": [
    "cadence_fig, cadence_mat = summary.cadence_plot(290)"
   ]
  },
  {
   "cell_type": "code",
   "execution_count": 20,
   "metadata": {
    "collapsed": false
   },
   "outputs": [
    {
     "data": {
      "text/plain": [
       "49603"
      ]
     },
     "execution_count": 20,
     "metadata": {},
     "output_type": "execute_result"
    }
   ],
   "source": [
    "summary.mjdvalfornight(250)"
   ]
  },
  {
   "cell_type": "code",
   "execution_count": 22,
   "metadata": {
    "collapsed": false
   },
   "outputs": [
    {
     "data": {
      "image/png": "[encoded data removed]",
      "text/plain": [
       "<matplotlib.figure.Figure at 0x10eafd9d0>"
      ]
     },
     "metadata": {},
     "output_type": "display_data"
    }
   ],
   "source": [
    "fig, mat = summary.cadence_plot(290, mjd_center=49603, mjd_range=[-50, 50])"
   ]
  },
  {
   "cell_type": "code",
   "execution_count": 45,
   "metadata": {
    "collapsed": false
   },
   "outputs": [],
   "source": [
    "x = EnigmaDeep_direct.query('night > 200 and night < 300').copy(deep=True)"
   ]
  },
  {
   "cell_type": "code",
   "execution_count": 46,
   "metadata": {
    "collapsed": false
   },
   "outputs": [
    {
     "data": {
      "text/html": [
       "<div style=\"max-height:1000px;max-width:1500px;overflow:auto;\">\n",
       "<table border=\"1\" class=\"dataframe\">\n",
       "  <thead>\n",
       "    <tr style=\"text-align: right;\">\n",
       "      <th></th>\n",
       "      <th>filter</th>\n",
       "      <th>expMJD</th>\n",
       "    </tr>\n",
       "    <tr>\n",
       "      <th>obsHistID</th>\n",
       "      <th></th>\n",
       "      <th></th>\n",
       "    </tr>\n",
       "  </thead>\n",
       "  <tbody>\n",
       "    <tr>\n",
       "      <th>165827</th>\n",
       "      <td>r</td>\n",
       "      <td>49561.251252</td>\n",
       "    </tr>\n",
       "    <tr>\n",
       "      <th>165828</th>\n",
       "      <td>r</td>\n",
       "      <td>49561.251681</td>\n",
       "    </tr>\n",
       "    <tr>\n",
       "      <th>165829</th>\n",
       "      <td>r</td>\n",
       "      <td>49561.252109</td>\n",
       "    </tr>\n",
       "    <tr>\n",
       "      <th>165830</th>\n",
       "      <td>r</td>\n",
       "      <td>49561.252526</td>\n",
       "    </tr>\n",
       "    <tr>\n",
       "      <th>165831</th>\n",
       "      <td>r</td>\n",
       "      <td>49561.252942</td>\n",
       "    </tr>\n",
       "    <tr>\n",
       "      <th>165832</th>\n",
       "      <td>r</td>\n",
       "      <td>49561.253371</td>\n",
       "    </tr>\n",
       "    <tr>\n",
       "      <th>165833</th>\n",
       "      <td>r</td>\n",
       "      <td>49561.253787</td>\n",
       "    </tr>\n",
       "    <tr>\n",
       "      <th>165834</th>\n",
       "      <td>r</td>\n",
       "      <td>49561.254204</td>\n",
       "    </tr>\n",
       "    <tr>\n",
       "      <th>165835</th>\n",
       "      <td>r</td>\n",
       "      <td>49561.254621</td>\n",
       "    </tr>\n",
       "    <tr>\n",
       "      <th>165836</th>\n",
       "      <td>r</td>\n",
       "      <td>49561.255049</td>\n",
       "    </tr>\n",
       "    <tr>\n",
       "      <th>165837</th>\n",
       "      <td>r</td>\n",
       "      <td>49561.255477</td>\n",
       "    </tr>\n",
       "    <tr>\n",
       "      <th>165838</th>\n",
       "      <td>r</td>\n",
       "      <td>49561.255905</td>\n",
       "    </tr>\n",
       "    <tr>\n",
       "      <th>165839</th>\n",
       "      <td>r</td>\n",
       "      <td>49561.256322</td>\n",
       "    </tr>\n",
       "    <tr>\n",
       "      <th>165840</th>\n",
       "      <td>r</td>\n",
       "      <td>49561.256750</td>\n",
       "    </tr>\n",
       "    <tr>\n",
       "      <th>165841</th>\n",
       "      <td>r</td>\n",
       "      <td>49561.257178</td>\n",
       "    </tr>\n",
       "    <tr>\n",
       "      <th>165842</th>\n",
       "      <td>r</td>\n",
       "      <td>49561.257595</td>\n",
       "    </tr>\n",
       "    <tr>\n",
       "      <th>165843</th>\n",
       "      <td>r</td>\n",
       "      <td>49561.258023</td>\n",
       "    </tr>\n",
       "    <tr>\n",
       "      <th>165844</th>\n",
       "      <td>r</td>\n",
       "      <td>49561.258452</td>\n",
       "    </tr>\n",
       "    <tr>\n",
       "      <th>165845</th>\n",
       "      <td>r</td>\n",
       "      <td>49561.258868</td>\n",
       "    </tr>\n",
       "    <tr>\n",
       "      <th>165846</th>\n",
       "      <td>r</td>\n",
       "      <td>49561.259296</td>\n",
       "    </tr>\n",
       "    <tr>\n",
       "      <th>165847</th>\n",
       "      <td>g</td>\n",
       "      <td>49561.261079</td>\n",
       "    </tr>\n",
       "    <tr>\n",
       "      <th>165848</th>\n",
       "      <td>g</td>\n",
       "      <td>49561.261507</td>\n",
       "    </tr>\n",
       "    <tr>\n",
       "      <th>165849</th>\n",
       "      <td>g</td>\n",
       "      <td>49561.261924</td>\n",
       "    </tr>\n",
       "    <tr>\n",
       "      <th>165850</th>\n",
       "      <td>g</td>\n",
       "      <td>49561.262352</td>\n",
       "    </tr>\n",
       "    <tr>\n",
       "      <th>165851</th>\n",
       "      <td>g</td>\n",
       "      <td>49561.262769</td>\n",
       "    </tr>\n",
       "    <tr>\n",
       "      <th>165852</th>\n",
       "      <td>g</td>\n",
       "      <td>49561.263185</td>\n",
       "    </tr>\n",
       "    <tr>\n",
       "      <th>165853</th>\n",
       "      <td>g</td>\n",
       "      <td>49561.263614</td>\n",
       "    </tr>\n",
       "    <tr>\n",
       "      <th>165854</th>\n",
       "      <td>g</td>\n",
       "      <td>49561.264042</td>\n",
       "    </tr>\n",
       "    <tr>\n",
       "      <th>165855</th>\n",
       "      <td>g</td>\n",
       "      <td>49561.264470</td>\n",
       "    </tr>\n",
       "    <tr>\n",
       "      <th>165856</th>\n",
       "      <td>g</td>\n",
       "      <td>49561.264898</td>\n",
       "    </tr>\n",
       "    <tr>\n",
       "      <th>...</th>\n",
       "      <td>...</td>\n",
       "      <td>...</td>\n",
       "    </tr>\n",
       "    <tr>\n",
       "      <th>229286</th>\n",
       "      <td>z</td>\n",
       "      <td>49648.053779</td>\n",
       "    </tr>\n",
       "    <tr>\n",
       "      <th>229287</th>\n",
       "      <td>z</td>\n",
       "      <td>49648.054195</td>\n",
       "    </tr>\n",
       "    <tr>\n",
       "      <th>229288</th>\n",
       "      <td>z</td>\n",
       "      <td>49648.054612</td>\n",
       "    </tr>\n",
       "    <tr>\n",
       "      <th>229289</th>\n",
       "      <td>z</td>\n",
       "      <td>49648.055040</td>\n",
       "    </tr>\n",
       "    <tr>\n",
       "      <th>229290</th>\n",
       "      <td>z</td>\n",
       "      <td>49648.055457</td>\n",
       "    </tr>\n",
       "    <tr>\n",
       "      <th>229291</th>\n",
       "      <td>z</td>\n",
       "      <td>49648.055885</td>\n",
       "    </tr>\n",
       "    <tr>\n",
       "      <th>229292</th>\n",
       "      <td>z</td>\n",
       "      <td>49648.056302</td>\n",
       "    </tr>\n",
       "    <tr>\n",
       "      <th>229293</th>\n",
       "      <td>z</td>\n",
       "      <td>49648.056719</td>\n",
       "    </tr>\n",
       "    <tr>\n",
       "      <th>229294</th>\n",
       "      <td>z</td>\n",
       "      <td>49648.057135</td>\n",
       "    </tr>\n",
       "    <tr>\n",
       "      <th>229295</th>\n",
       "      <td>z</td>\n",
       "      <td>49648.057563</td>\n",
       "    </tr>\n",
       "    <tr>\n",
       "      <th>229296</th>\n",
       "      <td>y</td>\n",
       "      <td>49648.059346</td>\n",
       "    </tr>\n",
       "    <tr>\n",
       "      <th>229297</th>\n",
       "      <td>y</td>\n",
       "      <td>49648.059763</td>\n",
       "    </tr>\n",
       "    <tr>\n",
       "      <th>229298</th>\n",
       "      <td>y</td>\n",
       "      <td>49648.060179</td>\n",
       "    </tr>\n",
       "    <tr>\n",
       "      <th>229299</th>\n",
       "      <td>y</td>\n",
       "      <td>49648.060607</td>\n",
       "    </tr>\n",
       "    <tr>\n",
       "      <th>229300</th>\n",
       "      <td>y</td>\n",
       "      <td>49648.061036</td>\n",
       "    </tr>\n",
       "    <tr>\n",
       "      <th>229301</th>\n",
       "      <td>y</td>\n",
       "      <td>49648.061464</td>\n",
       "    </tr>\n",
       "    <tr>\n",
       "      <th>229302</th>\n",
       "      <td>y</td>\n",
       "      <td>49648.061892</td>\n",
       "    </tr>\n",
       "    <tr>\n",
       "      <th>229303</th>\n",
       "      <td>y</td>\n",
       "      <td>49648.062309</td>\n",
       "    </tr>\n",
       "    <tr>\n",
       "      <th>229304</th>\n",
       "      <td>y</td>\n",
       "      <td>49648.062737</td>\n",
       "    </tr>\n",
       "    <tr>\n",
       "      <th>229305</th>\n",
       "      <td>y</td>\n",
       "      <td>49648.063165</td>\n",
       "    </tr>\n",
       "    <tr>\n",
       "      <th>229306</th>\n",
       "      <td>y</td>\n",
       "      <td>49648.063594</td>\n",
       "    </tr>\n",
       "    <tr>\n",
       "      <th>229307</th>\n",
       "      <td>y</td>\n",
       "      <td>49648.064010</td>\n",
       "    </tr>\n",
       "    <tr>\n",
       "      <th>229308</th>\n",
       "      <td>y</td>\n",
       "      <td>49648.064427</td>\n",
       "    </tr>\n",
       "    <tr>\n",
       "      <th>229309</th>\n",
       "      <td>y</td>\n",
       "      <td>49648.064855</td>\n",
       "    </tr>\n",
       "    <tr>\n",
       "      <th>229310</th>\n",
       "      <td>y</td>\n",
       "      <td>49648.065283</td>\n",
       "    </tr>\n",
       "    <tr>\n",
       "      <th>229311</th>\n",
       "      <td>y</td>\n",
       "      <td>49648.065700</td>\n",
       "    </tr>\n",
       "    <tr>\n",
       "      <th>229312</th>\n",
       "      <td>y</td>\n",
       "      <td>49648.066117</td>\n",
       "    </tr>\n",
       "    <tr>\n",
       "      <th>229313</th>\n",
       "      <td>y</td>\n",
       "      <td>49648.066545</td>\n",
       "    </tr>\n",
       "    <tr>\n",
       "      <th>229314</th>\n",
       "      <td>y</td>\n",
       "      <td>49648.066973</td>\n",
       "    </tr>\n",
       "    <tr>\n",
       "      <th>229315</th>\n",
       "      <td>y</td>\n",
       "      <td>49648.067401</td>\n",
       "    </tr>\n",
       "  </tbody>\n",
       "</table>\n",
       "<p>1644 rows × 2 columns</p>\n",
       "</div>"
      ],
      "text/plain": [
       "          filter        expMJD\n",
       "obsHistID                     \n",
       "165827         r  49561.251252\n",
       "165828         r  49561.251681\n",
       "165829         r  49561.252109\n",
       "165830         r  49561.252526\n",
       "165831         r  49561.252942\n",
       "165832         r  49561.253371\n",
       "165833         r  49561.253787\n",
       "165834         r  49561.254204\n",
       "165835         r  49561.254621\n",
       "165836         r  49561.255049\n",
       "165837         r  49561.255477\n",
       "165838         r  49561.255905\n",
       "165839         r  49561.256322\n",
       "165840         r  49561.256750\n",
       "165841         r  49561.257178\n",
       "165842         r  49561.257595\n",
       "165843         r  49561.258023\n",
       "165844         r  49561.258452\n",
       "165845         r  49561.258868\n",
       "165846         r  49561.259296\n",
       "165847         g  49561.261079\n",
       "165848         g  49561.261507\n",
       "165849         g  49561.261924\n",
       "165850         g  49561.262352\n",
       "165851         g  49561.262769\n",
       "165852         g  49561.263185\n",
       "165853         g  49561.263614\n",
       "165854         g  49561.264042\n",
       "165855         g  49561.264470\n",
       "165856         g  49561.264898\n",
       "...          ...           ...\n",
       "229286         z  49648.053779\n",
       "229287         z  49648.054195\n",
       "229288         z  49648.054612\n",
       "229289         z  49648.055040\n",
       "229290         z  49648.055457\n",
       "229291         z  49648.055885\n",
       "229292         z  49648.056302\n",
       "229293         z  49648.056719\n",
       "229294         z  49648.057135\n",
       "229295         z  49648.057563\n",
       "229296         y  49648.059346\n",
       "229297         y  49648.059763\n",
       "229298         y  49648.060179\n",
       "229299         y  49648.060607\n",
       "229300         y  49648.061036\n",
       "229301         y  49648.061464\n",
       "229302         y  49648.061892\n",
       "229303         y  49648.062309\n",
       "229304         y  49648.062737\n",
       "229305         y  49648.063165\n",
       "229306         y  49648.063594\n",
       "229307         y  49648.064010\n",
       "229308         y  49648.064427\n",
       "229309         y  49648.064855\n",
       "229310         y  49648.065283\n",
       "229311         y  49648.065700\n",
       "229312         y  49648.066117\n",
       "229313         y  49648.066545\n",
       "229314         y  49648.066973\n",
       "229315         y  49648.067401\n",
       "\n",
       "[1644 rows x 2 columns]"
      ]
     },
     "execution_count": 46,
     "metadata": {},
     "output_type": "execute_result"
    }
   ],
   "source": [
    "x[['filter', 'expMJD']]"
   ]
  },
  {
   "cell_type": "code",
   "execution_count": 29,
   "metadata": {
    "collapsed": false
   },
   "outputs": [],
   "source": [
    "dust = sncosmo.CCM89Dust()\n",
    "model = sncosmo.Model(source='salt2-extended', effects=[dust, dust],\n",
    "                               effect_names=['host', 'mw'],\n",
    "                               effect_frames=['rest', 'obs'])"
   ]
  },
  {
   "cell_type": "code",
   "execution_count": 30,
   "metadata": {
    "collapsed": false
   },
   "outputs": [],
   "source": [
    "model.set(z=1.0, c=0., x1=0., t0=49603)\n",
    "model.set_source_peakabsmag(-19.3, 'bessellb', 'ab')"
   ]
  },
  {
   "cell_type": "code",
   "execution_count": 31,
   "metadata": {
    "collapsed": false
   },
   "outputs": [
    {
     "name": "stdout",
     "output_type": "stream",
     "text": [
      "<Model at 0x10cffb810>\n",
      "source:\n",
      "  class      : SALT2Source\n",
      "  name       : 'salt2-extended'\n",
      "  version    : 1.0\n",
      "  phases     : [-20, .., 50] days\n",
      "  wavelengths: [300, .., 18000] Angstroms\n",
      "effect (name='host' frame='rest'):\n",
      "  class           : CCM89Dust\n",
      "  wavelength range: [909.09, 33333.3] Angstroms\n",
      "effect (name='mw' frame='obs'):\n",
      "  class           : CCM89Dust\n",
      "  wavelength range: [909.09, 33333.3] Angstroms\n",
      "parameters:\n",
      "  z       = 1.0\n",
      "  t0      = 49603.0\n",
      "  x0      = 1.8469279661995543e-06\n",
      "  x1      = 0.0\n",
      "  c       = 0.0\n",
      "  hostebv = 0.0\n",
      "  hostr_v = 3.1000000000000001\n",
      "  mwebv   = 0.0\n",
      "  mwr_v   = 3.1000000000000001\n"
     ]
    }
   ],
   "source": [
    "print model"
   ]
  },
  {
   "cell_type": "code",
   "execution_count": 32,
   "metadata": {
    "collapsed": false
   },
   "outputs": [],
   "source": [
    "import os\n",
    "throughputsDir = os.getenv('THROUGHPUTSDIR')"
   ]
  },
  {
   "cell_type": "code",
   "execution_count": 33,
   "metadata": {
    "collapsed": false
   },
   "outputs": [],
   "source": [
    "bandPassList = ['u', 'g', 'r', 'i', 'z', 'y']\n",
    "banddir = os.path.join(os.getenv('THROUGHPUTS_DIR'), 'baseline')\n",
    "# lsstbands = list()\n",
    "# lsstbp = dict()\n",
    "\n",
    "for band in bandPassList:\n",
    "\n",
    "    # setup sncosmo bandpasses\n",
    "    bandfname = banddir + \"/total_\" + band + '.dat'\n",
    "\n",
    "\n",
    "    # register the LSST bands to the SNCosmo registry\n",
    "    # Not needed for LSST, but useful to compare independent codes\n",
    "    # Usually the next two lines can be merged,\n",
    "    # but there is an astropy bug currently which affects only OSX.\n",
    "    numpyband = np.loadtxt(bandfname)\n",
    "    sncosmoband = sncosmo.Bandpass(wave=numpyband[:, 0],\n",
    "                                   trans=numpyband[:, 1],\n",
    "                                   wave_unit=Unit('nm'),\n",
    "                                   name='LSST_' + band)\n",
    "\n",
    "    sncosmo.registry.register(sncosmoband, force=True)"
   ]
  },
  {
   "cell_type": "code",
   "execution_count": 9,
   "metadata": {
    "collapsed": false
   },
   "outputs": [],
   "source": [
    "times = np.arange(-20., 50., 1.)"
   ]
  },
  {
   "cell_type": "code",
   "execution_count": 41,
   "metadata": {
    "collapsed": true
   },
   "outputs": [],
   "source": [
    "times=x.expMJD.values\n",
    "bands = x['filter'].apply(lambda x: 'LSST_' + x)"
   ]
  },
  {
   "cell_type": "code",
   "execution_count": 36,
   "metadata": {
    "collapsed": false
   },
   "outputs": [
    {
     "data": {
      "text/plain": [
       "array([         nan,          nan,          nan, ...,  25.63858129,\n",
       "        25.63860009,  25.63861889])"
      ]
     },
     "execution_count": 36,
     "metadata": {},
     "output_type": "execute_result"
    }
   ],
   "source": [
    "model.bandmag(time=times, band=bands, magsys='ab')"
   ]
  },
  {
   "cell_type": "code",
   "execution_count": 52,
   "metadata": {
    "collapsed": false
   },
   "outputs": [],
   "source": [
    "x['bandmag'] = model.bandmag(time=times, band=['LSST_g'], magsys='ab')"
   ]
  },
  {
   "cell_type": "code",
   "execution_count": 54,
   "metadata": {
    "collapsed": false
   },
   "outputs": [
    {
     "data": {
      "text/html": [
       "<div style=\"max-height:1000px;max-width:1500px;overflow:auto;\">\n",
       "<table border=\"1\" class=\"dataframe\">\n",
       "  <thead>\n",
       "    <tr style=\"text-align: right;\">\n",
       "      <th></th>\n",
       "      <th>expMJD</th>\n",
       "      <th>filter</th>\n",
       "      <th>bandmag</th>\n",
       "    </tr>\n",
       "    <tr>\n",
       "      <th>obsHistID</th>\n",
       "      <th></th>\n",
       "      <th></th>\n",
       "      <th></th>\n",
       "    </tr>\n",
       "  </thead>\n",
       "  <tbody>\n",
       "    <tr>\n",
       "      <th>165827</th>\n",
       "      <td>49561.251252</td>\n",
       "      <td>r</td>\n",
       "      <td>NaN</td>\n",
       "    </tr>\n",
       "    <tr>\n",
       "      <th>165828</th>\n",
       "      <td>49561.251681</td>\n",
       "      <td>r</td>\n",
       "      <td>NaN</td>\n",
       "    </tr>\n",
       "    <tr>\n",
       "      <th>165829</th>\n",
       "      <td>49561.252109</td>\n",
       "      <td>r</td>\n",
       "      <td>NaN</td>\n",
       "    </tr>\n",
       "    <tr>\n",
       "      <th>165830</th>\n",
       "      <td>49561.252526</td>\n",
       "      <td>r</td>\n",
       "      <td>NaN</td>\n",
       "    </tr>\n",
       "    <tr>\n",
       "      <th>165831</th>\n",
       "      <td>49561.252942</td>\n",
       "      <td>r</td>\n",
       "      <td>NaN</td>\n",
       "    </tr>\n",
       "    <tr>\n",
       "      <th>165832</th>\n",
       "      <td>49561.253371</td>\n",
       "      <td>r</td>\n",
       "      <td>NaN</td>\n",
       "    </tr>\n",
       "    <tr>\n",
       "      <th>165833</th>\n",
       "      <td>49561.253787</td>\n",
       "      <td>r</td>\n",
       "      <td>NaN</td>\n",
       "    </tr>\n",
       "    <tr>\n",
       "      <th>165834</th>\n",
       "      <td>49561.254204</td>\n",
       "      <td>r</td>\n",
       "      <td>NaN</td>\n",
       "    </tr>\n",
       "    <tr>\n",
       "      <th>165835</th>\n",
       "      <td>49561.254621</td>\n",
       "      <td>r</td>\n",
       "      <td>NaN</td>\n",
       "    </tr>\n",
       "    <tr>\n",
       "      <th>165836</th>\n",
       "      <td>49561.255049</td>\n",
       "      <td>r</td>\n",
       "      <td>NaN</td>\n",
       "    </tr>\n",
       "    <tr>\n",
       "      <th>165837</th>\n",
       "      <td>49561.255477</td>\n",
       "      <td>r</td>\n",
       "      <td>NaN</td>\n",
       "    </tr>\n",
       "    <tr>\n",
       "      <th>165838</th>\n",
       "      <td>49561.255905</td>\n",
       "      <td>r</td>\n",
       "      <td>NaN</td>\n",
       "    </tr>\n",
       "    <tr>\n",
       "      <th>165839</th>\n",
       "      <td>49561.256322</td>\n",
       "      <td>r</td>\n",
       "      <td>NaN</td>\n",
       "    </tr>\n",
       "    <tr>\n",
       "      <th>165840</th>\n",
       "      <td>49561.256750</td>\n",
       "      <td>r</td>\n",
       "      <td>NaN</td>\n",
       "    </tr>\n",
       "    <tr>\n",
       "      <th>165841</th>\n",
       "      <td>49561.257178</td>\n",
       "      <td>r</td>\n",
       "      <td>NaN</td>\n",
       "    </tr>\n",
       "    <tr>\n",
       "      <th>165842</th>\n",
       "      <td>49561.257595</td>\n",
       "      <td>r</td>\n",
       "      <td>NaN</td>\n",
       "    </tr>\n",
       "    <tr>\n",
       "      <th>165843</th>\n",
       "      <td>49561.258023</td>\n",
       "      <td>r</td>\n",
       "      <td>NaN</td>\n",
       "    </tr>\n",
       "    <tr>\n",
       "      <th>165844</th>\n",
       "      <td>49561.258452</td>\n",
       "      <td>r</td>\n",
       "      <td>NaN</td>\n",
       "    </tr>\n",
       "    <tr>\n",
       "      <th>165845</th>\n",
       "      <td>49561.258868</td>\n",
       "      <td>r</td>\n",
       "      <td>NaN</td>\n",
       "    </tr>\n",
       "    <tr>\n",
       "      <th>165846</th>\n",
       "      <td>49561.259296</td>\n",
       "      <td>r</td>\n",
       "      <td>NaN</td>\n",
       "    </tr>\n",
       "    <tr>\n",
       "      <th>165847</th>\n",
       "      <td>49561.261079</td>\n",
       "      <td>g</td>\n",
       "      <td>NaN</td>\n",
       "    </tr>\n",
       "    <tr>\n",
       "      <th>165848</th>\n",
       "      <td>49561.261507</td>\n",
       "      <td>g</td>\n",
       "      <td>NaN</td>\n",
       "    </tr>\n",
       "    <tr>\n",
       "      <th>165849</th>\n",
       "      <td>49561.261924</td>\n",
       "      <td>g</td>\n",
       "      <td>NaN</td>\n",
       "    </tr>\n",
       "    <tr>\n",
       "      <th>165850</th>\n",
       "      <td>49561.262352</td>\n",
       "      <td>g</td>\n",
       "      <td>NaN</td>\n",
       "    </tr>\n",
       "    <tr>\n",
       "      <th>165851</th>\n",
       "      <td>49561.262769</td>\n",
       "      <td>g</td>\n",
       "      <td>NaN</td>\n",
       "    </tr>\n",
       "    <tr>\n",
       "      <th>165852</th>\n",
       "      <td>49561.263185</td>\n",
       "      <td>g</td>\n",
       "      <td>NaN</td>\n",
       "    </tr>\n",
       "    <tr>\n",
       "      <th>165853</th>\n",
       "      <td>49561.263614</td>\n",
       "      <td>g</td>\n",
       "      <td>NaN</td>\n",
       "    </tr>\n",
       "    <tr>\n",
       "      <th>165854</th>\n",
       "      <td>49561.264042</td>\n",
       "      <td>g</td>\n",
       "      <td>NaN</td>\n",
       "    </tr>\n",
       "    <tr>\n",
       "      <th>165855</th>\n",
       "      <td>49561.264470</td>\n",
       "      <td>g</td>\n",
       "      <td>NaN</td>\n",
       "    </tr>\n",
       "    <tr>\n",
       "      <th>165856</th>\n",
       "      <td>49561.264898</td>\n",
       "      <td>g</td>\n",
       "      <td>NaN</td>\n",
       "    </tr>\n",
       "    <tr>\n",
       "      <th>...</th>\n",
       "      <td>...</td>\n",
       "      <td>...</td>\n",
       "      <td>...</td>\n",
       "    </tr>\n",
       "    <tr>\n",
       "      <th>229286</th>\n",
       "      <td>49648.053779</td>\n",
       "      <td>z</td>\n",
       "      <td>33.424053</td>\n",
       "    </tr>\n",
       "    <tr>\n",
       "      <th>229287</th>\n",
       "      <td>49648.054195</td>\n",
       "      <td>z</td>\n",
       "      <td>33.423525</td>\n",
       "    </tr>\n",
       "    <tr>\n",
       "      <th>229288</th>\n",
       "      <td>49648.054612</td>\n",
       "      <td>z</td>\n",
       "      <td>33.422996</td>\n",
       "    </tr>\n",
       "    <tr>\n",
       "      <th>229289</th>\n",
       "      <td>49648.055040</td>\n",
       "      <td>z</td>\n",
       "      <td>33.422454</td>\n",
       "    </tr>\n",
       "    <tr>\n",
       "      <th>229290</th>\n",
       "      <td>49648.055457</td>\n",
       "      <td>z</td>\n",
       "      <td>33.421926</td>\n",
       "    </tr>\n",
       "    <tr>\n",
       "      <th>229291</th>\n",
       "      <td>49648.055885</td>\n",
       "      <td>z</td>\n",
       "      <td>33.421384</td>\n",
       "    </tr>\n",
       "    <tr>\n",
       "      <th>229292</th>\n",
       "      <td>49648.056302</td>\n",
       "      <td>z</td>\n",
       "      <td>33.420857</td>\n",
       "    </tr>\n",
       "    <tr>\n",
       "      <th>229293</th>\n",
       "      <td>49648.056719</td>\n",
       "      <td>z</td>\n",
       "      <td>33.420330</td>\n",
       "    </tr>\n",
       "    <tr>\n",
       "      <th>229294</th>\n",
       "      <td>49648.057135</td>\n",
       "      <td>z</td>\n",
       "      <td>33.419804</td>\n",
       "    </tr>\n",
       "    <tr>\n",
       "      <th>229295</th>\n",
       "      <td>49648.057563</td>\n",
       "      <td>z</td>\n",
       "      <td>33.419264</td>\n",
       "    </tr>\n",
       "    <tr>\n",
       "      <th>229296</th>\n",
       "      <td>49648.059346</td>\n",
       "      <td>y</td>\n",
       "      <td>33.417016</td>\n",
       "    </tr>\n",
       "    <tr>\n",
       "      <th>229297</th>\n",
       "      <td>49648.059763</td>\n",
       "      <td>y</td>\n",
       "      <td>33.416491</td>\n",
       "    </tr>\n",
       "    <tr>\n",
       "      <th>229298</th>\n",
       "      <td>49648.060179</td>\n",
       "      <td>y</td>\n",
       "      <td>33.415967</td>\n",
       "    </tr>\n",
       "    <tr>\n",
       "      <th>229299</th>\n",
       "      <td>49648.060607</td>\n",
       "      <td>y</td>\n",
       "      <td>33.415429</td>\n",
       "    </tr>\n",
       "    <tr>\n",
       "      <th>229300</th>\n",
       "      <td>49648.061036</td>\n",
       "      <td>y</td>\n",
       "      <td>33.414890</td>\n",
       "    </tr>\n",
       "    <tr>\n",
       "      <th>229301</th>\n",
       "      <td>49648.061464</td>\n",
       "      <td>y</td>\n",
       "      <td>33.414352</td>\n",
       "    </tr>\n",
       "    <tr>\n",
       "      <th>229302</th>\n",
       "      <td>49648.061892</td>\n",
       "      <td>y</td>\n",
       "      <td>33.413814</td>\n",
       "    </tr>\n",
       "    <tr>\n",
       "      <th>229303</th>\n",
       "      <td>49648.062309</td>\n",
       "      <td>y</td>\n",
       "      <td>33.413291</td>\n",
       "    </tr>\n",
       "    <tr>\n",
       "      <th>229304</th>\n",
       "      <td>49648.062737</td>\n",
       "      <td>y</td>\n",
       "      <td>33.412754</td>\n",
       "    </tr>\n",
       "    <tr>\n",
       "      <th>229305</th>\n",
       "      <td>49648.063165</td>\n",
       "      <td>y</td>\n",
       "      <td>33.412218</td>\n",
       "    </tr>\n",
       "    <tr>\n",
       "      <th>229306</th>\n",
       "      <td>49648.063594</td>\n",
       "      <td>y</td>\n",
       "      <td>33.411680</td>\n",
       "    </tr>\n",
       "    <tr>\n",
       "      <th>229307</th>\n",
       "      <td>49648.064010</td>\n",
       "      <td>y</td>\n",
       "      <td>33.411159</td>\n",
       "    </tr>\n",
       "    <tr>\n",
       "      <th>229308</th>\n",
       "      <td>49648.064427</td>\n",
       "      <td>y</td>\n",
       "      <td>33.410638</td>\n",
       "    </tr>\n",
       "    <tr>\n",
       "      <th>229309</th>\n",
       "      <td>49648.064855</td>\n",
       "      <td>y</td>\n",
       "      <td>33.410102</td>\n",
       "    </tr>\n",
       "    <tr>\n",
       "      <th>229310</th>\n",
       "      <td>49648.065283</td>\n",
       "      <td>y</td>\n",
       "      <td>33.409567</td>\n",
       "    </tr>\n",
       "    <tr>\n",
       "      <th>229311</th>\n",
       "      <td>49648.065700</td>\n",
       "      <td>y</td>\n",
       "      <td>33.409046</td>\n",
       "    </tr>\n",
       "    <tr>\n",
       "      <th>229312</th>\n",
       "      <td>49648.066117</td>\n",
       "      <td>y</td>\n",
       "      <td>33.408525</td>\n",
       "    </tr>\n",
       "    <tr>\n",
       "      <th>229313</th>\n",
       "      <td>49648.066545</td>\n",
       "      <td>y</td>\n",
       "      <td>33.407991</td>\n",
       "    </tr>\n",
       "    <tr>\n",
       "      <th>229314</th>\n",
       "      <td>49648.066973</td>\n",
       "      <td>y</td>\n",
       "      <td>33.407457</td>\n",
       "    </tr>\n",
       "    <tr>\n",
       "      <th>229315</th>\n",
       "      <td>49648.067401</td>\n",
       "      <td>y</td>\n",
       "      <td>33.406924</td>\n",
       "    </tr>\n",
       "  </tbody>\n",
       "</table>\n",
       "<p>1644 rows × 3 columns</p>\n",
       "</div>"
      ],
      "text/plain": [
       "                 expMJD filter    bandmag\n",
       "obsHistID                                \n",
       "165827     49561.251252      r        NaN\n",
       "165828     49561.251681      r        NaN\n",
       "165829     49561.252109      r        NaN\n",
       "165830     49561.252526      r        NaN\n",
       "165831     49561.252942      r        NaN\n",
       "165832     49561.253371      r        NaN\n",
       "165833     49561.253787      r        NaN\n",
       "165834     49561.254204      r        NaN\n",
       "165835     49561.254621      r        NaN\n",
       "165836     49561.255049      r        NaN\n",
       "165837     49561.255477      r        NaN\n",
       "165838     49561.255905      r        NaN\n",
       "165839     49561.256322      r        NaN\n",
       "165840     49561.256750      r        NaN\n",
       "165841     49561.257178      r        NaN\n",
       "165842     49561.257595      r        NaN\n",
       "165843     49561.258023      r        NaN\n",
       "165844     49561.258452      r        NaN\n",
       "165845     49561.258868      r        NaN\n",
       "165846     49561.259296      r        NaN\n",
       "165847     49561.261079      g        NaN\n",
       "165848     49561.261507      g        NaN\n",
       "165849     49561.261924      g        NaN\n",
       "165850     49561.262352      g        NaN\n",
       "165851     49561.262769      g        NaN\n",
       "165852     49561.263185      g        NaN\n",
       "165853     49561.263614      g        NaN\n",
       "165854     49561.264042      g        NaN\n",
       "165855     49561.264470      g        NaN\n",
       "165856     49561.264898      g        NaN\n",
       "...                 ...    ...        ...\n",
       "229286     49648.053779      z  33.424053\n",
       "229287     49648.054195      z  33.423525\n",
       "229288     49648.054612      z  33.422996\n",
       "229289     49648.055040      z  33.422454\n",
       "229290     49648.055457      z  33.421926\n",
       "229291     49648.055885      z  33.421384\n",
       "229292     49648.056302      z  33.420857\n",
       "229293     49648.056719      z  33.420330\n",
       "229294     49648.057135      z  33.419804\n",
       "229295     49648.057563      z  33.419264\n",
       "229296     49648.059346      y  33.417016\n",
       "229297     49648.059763      y  33.416491\n",
       "229298     49648.060179      y  33.415967\n",
       "229299     49648.060607      y  33.415429\n",
       "229300     49648.061036      y  33.414890\n",
       "229301     49648.061464      y  33.414352\n",
       "229302     49648.061892      y  33.413814\n",
       "229303     49648.062309      y  33.413291\n",
       "229304     49648.062737      y  33.412754\n",
       "229305     49648.063165      y  33.412218\n",
       "229306     49648.063594      y  33.411680\n",
       "229307     49648.064010      y  33.411159\n",
       "229308     49648.064427      y  33.410638\n",
       "229309     49648.064855      y  33.410102\n",
       "229310     49648.065283      y  33.409567\n",
       "229311     49648.065700      y  33.409046\n",
       "229312     49648.066117      y  33.408525\n",
       "229313     49648.066545      y  33.407991\n",
       "229314     49648.066973      y  33.407457\n",
       "229315     49648.067401      y  33.406924\n",
       "\n",
       "[1644 rows x 3 columns]"
      ]
     },
     "execution_count": 54,
     "metadata": {},
     "output_type": "execute_result"
    }
   ],
   "source": [
    "x[['expMJD', 'filter', 'bandmag']]"
   ]
  },
  {
   "cell_type": "code",
   "execution_count": 49,
   "metadata": {
    "collapsed": false
   },
   "outputs": [
    {
     "ename": "KeyError",
     "evalue": "\"['bandmag'] not in index\"",
     "output_type": "error",
     "traceback": [
      "\u001b[0;31m---------------------------------------------------------------------------\u001b[0m",
      "\u001b[0;31mKeyError\u001b[0m                                  Traceback (most recent call last)",
      "\u001b[0;32m<ipython-input-49-9478da04b618>\u001b[0m in \u001b[0;36m<module>\u001b[0;34m()\u001b[0m\n\u001b[0;32m----> 1\u001b[0;31m \u001b[0mx\u001b[0m\u001b[0;34m[\u001b[0m\u001b[0;34m[\u001b[0m\u001b[0;34m'expMJD'\u001b[0m\u001b[0;34m,\u001b[0m \u001b[0;34m'filter'\u001b[0m\u001b[0;34m,\u001b[0m \u001b[0;34m'bandmag'\u001b[0m\u001b[0;34m]\u001b[0m\u001b[0;34m]\u001b[0m\u001b[0;34m\u001b[0m\u001b[0m\n\u001b[0m",
      "\u001b[0;32m/usr/local/manual/anaconda/lib/python2.7/site-packages/pandas/core/frame.pyc\u001b[0m in \u001b[0;36m__getitem__\u001b[0;34m(self, key)\u001b[0m\n\u001b[1;32m   1779\u001b[0m         \u001b[0;32mif\u001b[0m \u001b[0misinstance\u001b[0m\u001b[0;34m(\u001b[0m\u001b[0mkey\u001b[0m\u001b[0;34m,\u001b[0m \u001b[0;34m(\u001b[0m\u001b[0mSeries\u001b[0m\u001b[0;34m,\u001b[0m \u001b[0mnp\u001b[0m\u001b[0;34m.\u001b[0m\u001b[0mndarray\u001b[0m\u001b[0;34m,\u001b[0m \u001b[0mIndex\u001b[0m\u001b[0;34m,\u001b[0m \u001b[0mlist\u001b[0m\u001b[0;34m)\u001b[0m\u001b[0;34m)\u001b[0m\u001b[0;34m:\u001b[0m\u001b[0;34m\u001b[0m\u001b[0m\n\u001b[1;32m   1780\u001b[0m             \u001b[0;31m# either boolean or fancy integer index\u001b[0m\u001b[0;34m\u001b[0m\u001b[0;34m\u001b[0m\u001b[0m\n\u001b[0;32m-> 1781\u001b[0;31m             \u001b[0;32mreturn\u001b[0m \u001b[0mself\u001b[0m\u001b[0;34m.\u001b[0m\u001b[0m_getitem_array\u001b[0m\u001b[0;34m(\u001b[0m\u001b[0mkey\u001b[0m\u001b[0;34m)\u001b[0m\u001b[0;34m\u001b[0m\u001b[0m\n\u001b[0m\u001b[1;32m   1782\u001b[0m         \u001b[0;32melif\u001b[0m \u001b[0misinstance\u001b[0m\u001b[0;34m(\u001b[0m\u001b[0mkey\u001b[0m\u001b[0;34m,\u001b[0m \u001b[0mDataFrame\u001b[0m\u001b[0;34m)\u001b[0m\u001b[0;34m:\u001b[0m\u001b[0;34m\u001b[0m\u001b[0m\n\u001b[1;32m   1783\u001b[0m             \u001b[0;32mreturn\u001b[0m \u001b[0mself\u001b[0m\u001b[0;34m.\u001b[0m\u001b[0m_getitem_frame\u001b[0m\u001b[0;34m(\u001b[0m\u001b[0mkey\u001b[0m\u001b[0;34m)\u001b[0m\u001b[0;34m\u001b[0m\u001b[0m\n",
      "\u001b[0;32m/usr/local/manual/anaconda/lib/python2.7/site-packages/pandas/core/frame.pyc\u001b[0m in \u001b[0;36m_getitem_array\u001b[0;34m(self, key)\u001b[0m\n\u001b[1;32m   1823\u001b[0m             \u001b[0;32mreturn\u001b[0m \u001b[0mself\u001b[0m\u001b[0;34m.\u001b[0m\u001b[0mtake\u001b[0m\u001b[0;34m(\u001b[0m\u001b[0mindexer\u001b[0m\u001b[0;34m,\u001b[0m \u001b[0maxis\u001b[0m\u001b[0;34m=\u001b[0m\u001b[0;36m0\u001b[0m\u001b[0;34m,\u001b[0m \u001b[0mconvert\u001b[0m\u001b[0;34m=\u001b[0m\u001b[0mFalse\u001b[0m\u001b[0;34m)\u001b[0m\u001b[0;34m\u001b[0m\u001b[0m\n\u001b[1;32m   1824\u001b[0m         \u001b[0;32melse\u001b[0m\u001b[0;34m:\u001b[0m\u001b[0;34m\u001b[0m\u001b[0m\n\u001b[0;32m-> 1825\u001b[0;31m             \u001b[0mindexer\u001b[0m \u001b[0;34m=\u001b[0m \u001b[0mself\u001b[0m\u001b[0;34m.\u001b[0m\u001b[0mix\u001b[0m\u001b[0;34m.\u001b[0m\u001b[0m_convert_to_indexer\u001b[0m\u001b[0;34m(\u001b[0m\u001b[0mkey\u001b[0m\u001b[0;34m,\u001b[0m \u001b[0maxis\u001b[0m\u001b[0;34m=\u001b[0m\u001b[0;36m1\u001b[0m\u001b[0;34m)\u001b[0m\u001b[0;34m\u001b[0m\u001b[0m\n\u001b[0m\u001b[1;32m   1826\u001b[0m             \u001b[0;32mreturn\u001b[0m \u001b[0mself\u001b[0m\u001b[0;34m.\u001b[0m\u001b[0mtake\u001b[0m\u001b[0;34m(\u001b[0m\u001b[0mindexer\u001b[0m\u001b[0;34m,\u001b[0m \u001b[0maxis\u001b[0m\u001b[0;34m=\u001b[0m\u001b[0;36m1\u001b[0m\u001b[0;34m,\u001b[0m \u001b[0mconvert\u001b[0m\u001b[0;34m=\u001b[0m\u001b[0mTrue\u001b[0m\u001b[0;34m)\u001b[0m\u001b[0;34m\u001b[0m\u001b[0m\n\u001b[1;32m   1827\u001b[0m \u001b[0;34m\u001b[0m\u001b[0m\n",
      "\u001b[0;32m/usr/local/manual/anaconda/lib/python2.7/site-packages/pandas/core/indexing.pyc\u001b[0m in \u001b[0;36m_convert_to_indexer\u001b[0;34m(self, obj, axis, is_setter)\u001b[0m\n\u001b[1;32m   1138\u001b[0m                 \u001b[0mmask\u001b[0m \u001b[0;34m=\u001b[0m \u001b[0mcheck\u001b[0m \u001b[0;34m==\u001b[0m \u001b[0;34m-\u001b[0m\u001b[0;36m1\u001b[0m\u001b[0;34m\u001b[0m\u001b[0m\n\u001b[1;32m   1139\u001b[0m                 \u001b[0;32mif\u001b[0m \u001b[0mmask\u001b[0m\u001b[0;34m.\u001b[0m\u001b[0many\u001b[0m\u001b[0;34m(\u001b[0m\u001b[0;34m)\u001b[0m\u001b[0;34m:\u001b[0m\u001b[0;34m\u001b[0m\u001b[0m\n\u001b[0;32m-> 1140\u001b[0;31m                     \u001b[0;32mraise\u001b[0m \u001b[0mKeyError\u001b[0m\u001b[0;34m(\u001b[0m\u001b[0;34m'%s not in index'\u001b[0m \u001b[0;34m%\u001b[0m \u001b[0mobjarr\u001b[0m\u001b[0;34m[\u001b[0m\u001b[0mmask\u001b[0m\u001b[0;34m]\u001b[0m\u001b[0;34m)\u001b[0m\u001b[0;34m\u001b[0m\u001b[0m\n\u001b[0m\u001b[1;32m   1141\u001b[0m \u001b[0;34m\u001b[0m\u001b[0m\n\u001b[1;32m   1142\u001b[0m                 \u001b[0;32mreturn\u001b[0m \u001b[0m_values_from_object\u001b[0m\u001b[0;34m(\u001b[0m\u001b[0mindexer\u001b[0m\u001b[0;34m)\u001b[0m\u001b[0;34m\u001b[0m\u001b[0m\n",
      "\u001b[0;31mKeyError\u001b[0m: \"['bandmag'] not in index\""
     ]
    }
   ],
   "source": [
    "x[['expMJD', 'filter', 'bandmag']]"
   ]
  },
  {
   "cell_type": "code",
   "execution_count": 57,
   "metadata": {
    "collapsed": true
   },
   "outputs": [],
   "source": [
    "x[['expMJD', 'filter', 'bandmag']].to_csv('SN_opsim.csv', index_label='obsHistID')"
   ]
  },
  {
   "cell_type": "code",
   "execution_count": 10,
   "metadata": {
    "collapsed": false
   },
   "outputs": [
    {
     "name": "stderr",
     "output_type": "stream",
     "text": [
      "/Users/rbiswas/.local/lib/python2.7/site-packages/sncosmo-1.2.dev557-py2.7-macosx-10.5-x86_64.egg/sncosmo/models.py:168: RuntimeWarning: invalid value encountered in log10\n",
      "  result[i] = -2.5 * np.log10(f / zpf)\n"
     ]
    },
    {
     "data": {
      "text/plain": [
       "array([ 29.06844337,  28.95961354,  28.85906057,  28.76724   ,\n",
       "        28.69129056,  28.63663104,  28.58733723,  28.5304443 ,\n",
       "        28.46709866,  28.39843729,  28.34424764,  28.32086074,\n",
       "        28.32789466,  28.36757345,  28.41597571,  28.44576039,\n",
       "        28.45244584,  28.43278098,  28.40947249,  28.40397383,\n",
       "        28.41485815,  28.44144345,  28.48208217,  28.53541546,\n",
       "        28.60724039,  28.70558224,  28.82204711,  28.94422637,\n",
       "        29.07418024,  29.21485742,  29.36909981,  29.54098573,\n",
       "        29.73464447,  29.95603378,  30.21548519,  30.53093278,\n",
       "        30.92688653,  31.45192496,  32.28133743,  35.99510371,\n",
       "                nan,          nan,          nan,          nan,\n",
       "                nan,          nan,          nan,          nan,\n",
       "                nan,          nan,          nan,          nan,\n",
       "                nan,          nan,          nan,          nan,\n",
       "                nan,          nan,          nan,          nan,\n",
       "                nan,          nan,          nan,          nan,\n",
       "                nan,  33.49479323,  32.65445205,  32.24546433,\n",
       "        31.99795979,  31.84037722])"
      ]
     },
     "execution_count": 10,
     "metadata": {},
     "output_type": "execute_result"
    }
   ],
   "source": [
    "model.bandmag(time=times, band=['LSST_g'], magsys='ab')"
   ]
  },
  {
   "cell_type": "code",
   "execution_count": 11,
   "metadata": {
    "collapsed": false
   },
   "outputs": [],
   "source": [
    "#band = ['LSST_u', 'LSST_g', 'LSST_r', 'LSST_i', 'LSST_z', 'LSST_y'] \n",
    "#bands = band * len(times)\n",
    "lcdict = dict()\n",
    "lcdict['time'] = times\n",
    "lcdict['u'] = model.bandmag(time=times.tolist() , band='LSST_u', magsys='ab')\n",
    "lcdict['g'] = model.bandmag(time=times.tolist() , band='LSST_g', magsys='ab')\n",
    "lcdict['r'] = model.bandmag(time=times.tolist() , band='LSST_r', magsys='ab')\n",
    "lcdict['i'] = model.bandmag(time=times.tolist() , band='LSST_i', magsys='ab')\n",
    "lcdict['z'] = model.bandmag(time=times.tolist() , band='LSST_z', magsys='ab')\n",
    "lcdict['y'] = model.bandmag(time=times.tolist() , band='LSST_y', magsys='ab')"
   ]
  },
  {
   "cell_type": "code",
   "execution_count": 37,
   "metadata": {
    "collapsed": false
   },
   "outputs": [
    {
     "ename": "NameError",
     "evalue": "name 'lcdict' is not defined",
     "output_type": "error",
     "traceback": [
      "\u001b[0;31m---------------------------------------------------------------------------\u001b[0m",
      "\u001b[0;31mNameError\u001b[0m                                 Traceback (most recent call last)",
      "\u001b[0;32m<ipython-input-37-3b3f0b836f37>\u001b[0m in \u001b[0;36m<module>\u001b[0;34m()\u001b[0m\n\u001b[1;32m      1\u001b[0m \u001b[0;32mimport\u001b[0m \u001b[0mpandas\u001b[0m \u001b[0;32mas\u001b[0m \u001b[0mpd\u001b[0m\u001b[0;34m\u001b[0m\u001b[0m\n\u001b[0;32m----> 2\u001b[0;31m \u001b[0mlc\u001b[0m \u001b[0;34m=\u001b[0m \u001b[0mpd\u001b[0m\u001b[0;34m.\u001b[0m\u001b[0mDataFrame\u001b[0m\u001b[0;34m(\u001b[0m\u001b[0mlcdict\u001b[0m\u001b[0;34m)\u001b[0m\u001b[0;34m\u001b[0m\u001b[0m\n\u001b[0m",
      "\u001b[0;31mNameError\u001b[0m: name 'lcdict' is not defined"
     ]
    }
   ],
   "source": [
    "import pandas as pd\n",
    "lc = pd.DataFrame(lcdict)"
   ]
  },
  {
   "cell_type": "code",
   "execution_count": 14,
   "metadata": {
    "collapsed": false
   },
   "outputs": [
    {
     "data": {
      "image/png": "[encoded data removed]",
      "text/plain": [
       "<matplotlib.figure.Figure at 0x10bd20f90>"
      ]
     },
     "metadata": {},
     "output_type": "display_data"
    }
   ],
   "source": [
    "ax = .plot(x='time', y=['r', 'i', 'z'])\n",
    "ax.invert_yaxis()"
   ]
  },
  {
   "cell_type": "code",
   "execution_count": 15,
   "metadata": {
    "collapsed": true
   },
   "outputs": [],
   "source": [
    "lc.to_csv('SN_z1.csv')"
   ]
  }
 ],
 "metadata": {
  "kernelspec": {
   "display_name": "Python 2",
   "language": "python",
   "name": "python2"
  },
  "language_info": {
   "codemirror_mode": {
    "name": "ipython",
    "version": 2
   },
   "file_extension": ".py",
   "mimetype": "text/x-python",
   "name": "python",
   "nbconvert_exporter": "python",
   "pygments_lexer": "ipython2",
   "version": "2.7.10"
  }
 },
 "nbformat": 4,
 "nbformat_minor": 0
}
